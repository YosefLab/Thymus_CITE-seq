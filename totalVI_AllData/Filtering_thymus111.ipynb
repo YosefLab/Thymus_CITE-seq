{
 "cells": [
  {
   "cell_type": "markdown",
   "metadata": {},
   "source": [
    "# Filtering thymus 111 data\n",
    "\n",
    "Zoë Steier\n",
    "\n",
    "* Datasets: Berkeley (ZRS06, ZRS07) and BioLegend (ZRS08)\n",
    "* Filter cells in thymus 111 data separately for Berkeley and BioLegend cohorts\n",
    "* Filter genes (variable gene selection considering batch, plus additional genes of interest)"
   ]
  },
  {
   "cell_type": "markdown",
   "metadata": {},
   "source": [
    "## Imports and settings"
   ]
  },
  {
   "cell_type": "code",
   "execution_count": 2,
   "metadata": {},
   "outputs": [
    {
     "name": "stderr",
     "output_type": "stream",
     "text": [
      "/data/yosef2/users/zsteier/programs/miniconda/envs/scvi_065/lib/python3.7/site-packages/umap/spectral.py:4: NumbaDeprecationWarning: \u001b[1mNo direct replacement for 'numba.targets' available. Visit https://gitter.im/numba/numba-dev to request help. Thanks!\u001b[0m\n",
      "  import numba.targets\n"
     ]
    }
   ],
   "source": [
    "# Import required packages\n",
    "\n",
    "import csv\n",
    "import gzip\n",
    "import os\n",
    "import scipy.io\n",
    "import matplotlib.pyplot as plt\n",
    "import seaborn as sns\n",
    "import numpy as np\n",
    "import pandas as pd\n",
    "import torch\n",
    "\n",
    "import scvi\n",
    "from scvi.dataset import GeneExpressionDataset, CellMeasurement, AnnDatasetFromAnnData\n",
    "from scvi.models import VAE, TOTALVI\n",
    "from scvi.inference import TotalPosterior, TotalTrainer, Posterior, UnsupervisedTrainer\n",
    "\n",
    "import anndata\n",
    "import scanpy as sc\n",
    "import umap\n",
    "\n",
    "%load_ext autoreload\n",
    "%autoreload 2\n",
    "%matplotlib inline\n",
    "\n",
    "scvi.set_seed(0)"
   ]
  },
  {
   "cell_type": "code",
   "execution_count": 2,
   "metadata": {},
   "outputs": [],
   "source": [
    "# Plotting settings\n",
    "\n",
    "colors = [\"#3B7EA1\", \"#FDB515\", \"#D9661F\", \"#859438\", \"#EE1F60\", \"#00A598\"]\n",
    "sns.set(context=\"notebook\", font_scale=1.3, style=\"ticks\")\n",
    "sns.set_palette(sns.color_palette(colors))\n",
    "plt.rcParams['svg.fonttype'] = 'none'\n",
    "plt.rcParams['pdf.fonttype'] = 42\n",
    "plt.rcParams['savefig.transparent'] = True\n",
    "sc.settings._vector_friendly = True\n",
    "import matplotlib.colors as mcolors\n",
    "DPI = 300"
   ]
  },
  {
   "cell_type": "markdown",
   "metadata": {},
   "source": [
    "## Load data"
   ]
  },
  {
   "cell_type": "markdown",
   "metadata": {},
   "source": [
    "### Load BioLegend data and filter"
   ]
  },
  {
   "cell_type": "code",
   "execution_count": 3,
   "metadata": {},
   "outputs": [],
   "source": [
    "# Load data path for BioLegend (8 lanes)\n",
    "\n",
    "save_path_BioLegend = \"/data/yosef2/users/zsteier/TotalSeq/20190814_BioLegend_ZRS08/cellranger_aggr/ZRS08_thymus111_aggr/outs/filtered_feature_bc_matrix\""
   ]
  },
  {
   "cell_type": "code",
   "execution_count": 4,
   "metadata": {},
   "outputs": [],
   "source": [
    "# Load data with scanpy\n",
    "\n",
    "dataset_BioLegend = sc.read_10x_mtx(save_path_BioLegend, gex_only=False)\n",
    "dataset_BioLegend.obsm[\"protein_expression\"] = dataset_BioLegend[\n",
    "    :, dataset_BioLegend.var[\"feature_types\"] == \"Antibody Capture\"].X.A\n",
    "dataset_BioLegend.uns[\"protein_names\"] = np.array(\n",
    "    dataset_BioLegend.var_names[dataset_BioLegend.var[\"feature_types\"] == \"Antibody Capture\"])\n",
    "dataset_BioLegend = dataset_BioLegend[\n",
    "    :, dataset_BioLegend.var[\"feature_types\"] != \"Antibody Capture\"].copy()\n",
    "dataset_BioLegend.X = dataset_BioLegend.X.A\n",
    "dataset_BioLegend.var_names_make_unique()"
   ]
  },
  {
   "cell_type": "code",
   "execution_count": 5,
   "metadata": {},
   "outputs": [],
   "source": [
    "# Add batch labels\n",
    "# Add the +11 to distinguish from the Berkeley batch indices\n",
    "\n",
    "dataset_BioLegend.obs[\"batch_indices\"] = [int(b.split(\"-\")[1]) - 1 + 11 for b in dataset_BioLegend.obs.index]"
   ]
  },
  {
   "cell_type": "code",
   "execution_count": 6,
   "metadata": {},
   "outputs": [
    {
     "data": {
      "text/plain": [
       "AnnData object with n_obs × n_vars = 42406 × 28692\n",
       "    obs: 'batch_indices'\n",
       "    var: 'gene_ids', 'feature_types'\n",
       "    uns: 'protein_names'\n",
       "    obsm: 'protein_expression'"
      ]
     },
     "execution_count": 6,
     "metadata": {},
     "output_type": "execute_result"
    }
   ],
   "source": [
    "dataset_BioLegend"
   ]
  },
  {
   "cell_type": "code",
   "execution_count": 7,
   "metadata": {},
   "outputs": [],
   "source": [
    "# Find proteins to keep\n",
    "protein_names = pd.read_csv(\"/data/yosef2/users/zsteier/totalVI/totalVI_journal/data/metadata/protein_metadata/TotalSeq_ADT206_ADT111_matched.csv\")\n",
    "protein_to_rna_table = pd.read_csv(\"/data/yosef2/users/zsteier/totalVI/totalVI_journal/data/metadata/protein_metadata/TotalSeq_ADT111_barcodes_RNA_20190717.csv\")\n",
    "\n",
    "# Subset on proteins included in this panel\n",
    "subset_111 = protein_names[\"name_206\"][~protein_names[\"name_111\"].isnull()].values\n",
    "keep = []\n",
    "for i, p in enumerate(dataset_BioLegend.uns[\"protein_names\"]):\n",
    "    if p in subset_111:\n",
    "        keep.append(i)\n",
    "dataset_BioLegend.obsm[\"protein_expression\"] = dataset_BioLegend.obsm[\"protein_expression\"][:, keep]\n",
    "dataset_BioLegend.uns[\"protein_names\"] = dataset_BioLegend.uns[\"protein_names\"][keep]\n",
    "\n",
    "# Some genes encode multiple protein so it's ok to overwrite key in this case as it will be included downstream\n",
    "protein_111_names = protein_names[\"name_111\"][\n",
    "    ~protein_names[\"name_111\"].isnull()\n",
    "].values\n",
    "g_to_p = {}\n",
    "for p1, p2 in zip(protein_111_names, subset_111):\n",
    "    ind = np.where(protein_to_rna_table[\"name\"] == p1)[0]\n",
    "    g_to_p[str(protein_to_rna_table.loc[ind, \"RNA\"].values[0])] = p2"
   ]
  },
  {
   "cell_type": "markdown",
   "metadata": {},
   "source": [
    "__Order of filtering:__\n",
    "\n",
    "1. filter cells by mitochondrial reads\n",
    "2. filter cells by min genes\n",
    "3. filter cells by min and max proteins\n",
    "4. flter genes by min cells expressing them\n",
    "5. find highly variable genes"
   ]
  },
  {
   "cell_type": "code",
   "execution_count": 8,
   "metadata": {},
   "outputs": [],
   "source": [
    "# Calculate mitochondrial reads\n",
    "mito_genes = dataset_BioLegend.var_names.str.startswith(\"mt-\")\n",
    "dataset_BioLegend.obs[\"percent_mito\"] = np.sum(dataset_BioLegend[:, mito_genes].X, axis=1) / np.sum(dataset_BioLegend.X, axis=1)\n",
    "dataset_BioLegend.obs['n_counts'] = dataset_BioLegend.X.sum(axis=1)"
   ]
  },
  {
   "cell_type": "code",
   "execution_count": 9,
   "metadata": {},
   "outputs": [
    {
     "name": "stderr",
     "output_type": "stream",
     "text": [
      "... storing 'feature_types' as categorical\n"
     ]
    },
    {
     "data": {
      "image/png": "[encoded data removed]",
      "text/plain": [
       "<Figure size 487.93x288 with 1 Axes>"
      ]
     },
     "metadata": {},
     "output_type": "display_data"
    }
   ],
   "source": [
    "# Plot mitochondrial reads\n",
    "sc.pl.scatter(dataset_BioLegend, x='n_counts', y='percent_mito')"
   ]
  },
  {
   "cell_type": "code",
   "execution_count": 10,
   "metadata": {},
   "outputs": [
    {
     "data": {
      "text/plain": [
       "View of AnnData object with n_obs × n_vars = 38585 × 28692\n",
       "    obs: 'batch_indices', 'percent_mito', 'n_counts'\n",
       "    var: 'gene_ids', 'feature_types'\n",
       "    uns: 'protein_names'\n",
       "    obsm: 'protein_expression'"
      ]
     },
     "execution_count": 10,
     "metadata": {},
     "output_type": "execute_result"
    }
   ],
   "source": [
    "# Filter cells by mitochondrial reads\n",
    "dataset_BioLegend = dataset_BioLegend[dataset_BioLegend.obs[\"percent_mito\"] < 0.15, :]\n",
    "dataset_BioLegend"
   ]
  },
  {
   "cell_type": "code",
   "execution_count": 11,
   "metadata": {},
   "outputs": [
    {
     "name": "stderr",
     "output_type": "stream",
     "text": [
      "Trying to set attribute `.obs` of view, copying.\n"
     ]
    },
    {
     "data": {
      "text/plain": [
       "AnnData object with n_obs × n_vars = 38376 × 28692\n",
       "    obs: 'batch_indices', 'percent_mito', 'n_counts', 'n_genes'\n",
       "    var: 'gene_ids', 'feature_types'\n",
       "    uns: 'protein_names'\n",
       "    obsm: 'protein_expression'"
      ]
     },
     "execution_count": 11,
     "metadata": {},
     "output_type": "execute_result"
    }
   ],
   "source": [
    "# Filter cells by min_genes\n",
    "sc.pp.filter_cells(dataset_BioLegend, min_genes=200)\n",
    "dataset_BioLegend"
   ]
  },
  {
   "cell_type": "code",
   "execution_count": 12,
   "metadata": {},
   "outputs": [],
   "source": [
    "# calculate protein library size\n",
    "dataset_BioLegend.obs[\"n_protein_counts\"] = dataset_BioLegend.obsm[\"protein_expression\"].sum(axis=1)"
   ]
  },
  {
   "cell_type": "code",
   "execution_count": 13,
   "metadata": {},
   "outputs": [
    {
     "data": {
      "image/png": "[encoded data removed]",
      "text/plain": [
       "<Figure size 487.93x288 with 1 Axes>"
      ]
     },
     "metadata": {},
     "output_type": "display_data"
    }
   ],
   "source": [
    "# plot protein library size\n",
    "sc.pl.scatter(dataset_BioLegend, x='n_protein_counts', y='n_counts')"
   ]
  },
  {
   "cell_type": "code",
   "execution_count": 14,
   "metadata": {},
   "outputs": [
    {
     "data": {
      "image/png": "[encoded data removed]",
      "text/plain": [
       "<Figure size 432x288 with 1 Axes>"
      ]
     },
     "metadata": {},
     "output_type": "display_data"
    }
   ],
   "source": [
    "# Plot protein library size\n",
    "_ = plt.hist(np.log1p(dataset_BioLegend.obs[\"n_protein_counts\"]), bins = 50)"
   ]
  },
  {
   "cell_type": "code",
   "execution_count": 15,
   "metadata": {},
   "outputs": [
    {
     "data": {
      "text/plain": [
       "View of AnnData object with n_obs × n_vars = 36791 × 28692\n",
       "    obs: 'batch_indices', 'percent_mito', 'n_counts', 'n_genes', 'n_protein_counts'\n",
       "    var: 'gene_ids', 'feature_types'\n",
       "    uns: 'protein_names'\n",
       "    obsm: 'protein_expression'"
      ]
     },
     "execution_count": 15,
     "metadata": {},
     "output_type": "execute_result"
    }
   ],
   "source": [
    "# Filter by protein library size (manually selected based on histogram)\n",
    "keep_protein_cells = np.logical_and(\n",
    "    dataset_BioLegend.obs[\"n_protein_counts\"] >= 1000, # 6.9 on ln scale\n",
    "    dataset_BioLegend.obs[\"n_protein_counts\"] <= 10000, #9.2 on ln scale\n",
    ")\n",
    "dataset_BioLegend = dataset_BioLegend[keep_protein_cells]\n",
    "dataset_BioLegend"
   ]
  },
  {
   "cell_type": "code",
   "execution_count": 16,
   "metadata": {},
   "outputs": [
    {
     "name": "stderr",
     "output_type": "stream",
     "text": [
      "Trying to set attribute `.var` of view, copying.\n"
     ]
    },
    {
     "data": {
      "text/plain": [
       "AnnData object with n_obs × n_vars = 36791 × 16611\n",
       "    obs: 'batch_indices', 'percent_mito', 'n_counts', 'n_genes', 'n_protein_counts'\n",
       "    var: 'gene_ids', 'feature_types', 'n_cells'\n",
       "    uns: 'protein_names'\n",
       "    obsm: 'protein_expression'"
      ]
     },
     "execution_count": 16,
     "metadata": {},
     "output_type": "execute_result"
    }
   ],
   "source": [
    "# Filter genes by expression in at least 4 cells\n",
    "sc.pp.filter_genes(dataset_BioLegend, min_cells=4)\n",
    "dataset_BioLegend"
   ]
  },
  {
   "cell_type": "code",
   "execution_count": 17,
   "metadata": {},
   "outputs": [],
   "source": [
    "# Calculate number of proteins detected per cell\n",
    "dataset_BioLegend.obs[\"n_proteins\"] = (dataset_BioLegend.obsm[\"protein_expression\"] > 0).sum(axis=1)"
   ]
  },
  {
   "cell_type": "code",
   "execution_count": 18,
   "metadata": {},
   "outputs": [
    {
     "data": {
      "image/png": "[encoded data removed]",
      "text/plain": [
       "<Figure size 432x288 with 1 Axes>"
      ]
     },
     "metadata": {},
     "output_type": "display_data"
    }
   ],
   "source": [
    "# Plot number of proteins\n",
    "_ = plt.hist((dataset_BioLegend.obs[\"n_proteins\"]), bins = 30)"
   ]
  },
  {
   "cell_type": "code",
   "execution_count": 19,
   "metadata": {},
   "outputs": [],
   "source": [
    "# filtering by number of proteins (these were manually selected based on histogram)\n",
    "keep_protein_cells = dataset_BioLegend.obs[\"n_proteins\"] >= 70\n",
    "dataset_BioLegend = dataset_BioLegend[keep_protein_cells]"
   ]
  },
  {
   "cell_type": "code",
   "execution_count": 20,
   "metadata": {},
   "outputs": [
    {
     "data": {
      "text/plain": [
       "View of AnnData object with n_obs × n_vars = 35984 × 16611\n",
       "    obs: 'batch_indices', 'percent_mito', 'n_counts', 'n_genes', 'n_protein_counts', 'n_proteins'\n",
       "    var: 'gene_ids', 'feature_types', 'n_cells'\n",
       "    uns: 'protein_names'\n",
       "    obsm: 'protein_expression'"
      ]
     },
     "execution_count": 20,
     "metadata": {},
     "output_type": "execute_result"
    }
   ],
   "source": [
    "dataset_BioLegend"
   ]
  },
  {
   "cell_type": "code",
   "execution_count": 21,
   "metadata": {},
   "outputs": [
    {
     "data": {
      "text/plain": [
       "array(['ADT_CD102_A0104', 'ADT_CD103_A0201', 'ADT_CD106_A0226',\n",
       "       'ADT_CD115(CSF-1R)_A0105', 'ADT_CD117(c-Kit)_A0012',\n",
       "       'ADT_CD11a_A0595', 'ADT_CD11c_A0106', 'ADT_CD122(IL-2Rb)_A0227',\n",
       "       'ADT_CD127(IL-7Ra)_A0198', 'ADT_CD134(OX-40)_A0195',\n",
       "       'ADT_CD135_A0098', 'ADT_CD137_A0194', 'ADT_CD14_A0424',\n",
       "       'ADT_CD140a_A0573', 'ADT_CD15(SSEA-1)_A0076',\n",
       "       'ADT_CD150(SLAM)_A0203', 'ADT_CD16-32_A0109',\n",
       "       'ADT_CD169(Siglec-1)_A0440', 'ADT_CD172a(SIRPa)_A0422',\n",
       "       'ADT_CD183(CXCR3)_A0228', 'ADT_CD184(CXCR4)_A0444',\n",
       "       'ADT_CD19_A0093', 'ADT_CD192(CCR2)_A0426', 'ADT_CD195(CCR5)_A0376',\n",
       "       'ADT_CD196(CCR6)_A0225', 'ADT_CD197(CCR7)_A0377', 'ADT_CD20_A0192',\n",
       "       'ADT_CD200(OX2)_A0079', 'ADT_CD201(EPCR)_A0439',\n",
       "       'ADT_CD204(Msr1)_A0448', 'ADT_CD206(MMR)_A0173',\n",
       "       'ADT_CD21-CD35(CR2-CR1)_A0107', 'ADT_CD223(LAG-3)_A0378',\n",
       "       'ADT_CD23_A0108', 'ADT_CD24_A0212', 'ADT_CD25_A0097',\n",
       "       'ADT_CD274(B7-H1_PD-L1)_A0190', 'ADT_CD278(ICOS)_A0171',\n",
       "       'ADT_CD279(PD-1)_A0004', 'ADT_CD28_A0204', 'ADT_CD29_A0570',\n",
       "       'ADT_CD300LG(Nepmucin)_A0416', 'ADT_CD301a(MGL1)_A0551',\n",
       "       'ADT_CD301b(MGL2)_A0566', 'ADT_CD304(Neuropilin-1)_A0552',\n",
       "       'ADT_CD326(Ep-CAM)_A0449', 'ADT_CD335(NKp46)_A0184',\n",
       "       'ADT_CD357(GITR)_A0193', 'ADT_CD36_A0555',\n",
       "       'ADT_CD366(Tim-3)_A0003', 'ADT_CD370(CLEC9A_DNGR1)_A0556',\n",
       "       'ADT_CD38_A0557', 'ADT_CD4_A0001', 'ADT_CD41_A0443',\n",
       "       'ADT_CD43_A0110', 'ADT_CD45_A0096', 'ADT_CD45.1_A0178',\n",
       "       'ADT_CD45.2_A0157', 'ADT_CD45R-B220_A0103', 'ADT_CD48_A0429',\n",
       "       'ADT_CD49d_A0078', 'ADT_CD49f_A0070', 'ADT_CD5_A0111',\n",
       "       'ADT_CD54_A0074', 'ADT_CD55(DAF)_A0558', 'ADT_CD62L_A0112',\n",
       "       'ADT_CD62P(P-selectin)_A0229', 'ADT_CD63_A0559',\n",
       "       'ADT_CD64(FcrRI)_A0202', 'ADT_CD68_A0560', 'ADT_CD69_A0197',\n",
       "       'ADT_CD71_A0441', 'ADT_CD73_A0077', 'ADT_CD79b(Igb)_A0561',\n",
       "       'ADT_CD83_A0562', 'ADT_CD86_A0200', 'ADT_CD8a_A0002',\n",
       "       'ADT_CD8b(Ly-3)_A0230', 'ADT_CD90.1(Thy-1.1)_A0380',\n",
       "       'ADT_CD90.2_A0075', 'ADT_CD93(AA4.1_earlyBlineage)_A0113',\n",
       "       'ADT_CX3CR1_A0563', 'ADT_ESAM_A0596', 'ADT_F4-80_A0114',\n",
       "       'ADT_FceRIa_A0115', 'ADT_FolateReceptorb(FR-b)_A0564',\n",
       "       'ADT_H-2KbboundtoSIINFEKL_A0231', 'ADT_I-A-I-E_A0117',\n",
       "       'ADT_IRF4_A0249', 'ADT_IgD_A0571', 'ADT_IgM_A0450',\n",
       "       'ADT_Ly-6A-E(Sca-1)_A0130', 'ADT_Ly-6C_A0013',\n",
       "       'ADT_MAdCAM-1_A0232', 'ADT_MERTK(Mer)_A0565', 'ADT_NK-1.1_A0118',\n",
       "       'ADT_Notch1_A0442', 'ADT_PanendothelialCellAntigen_A0381',\n",
       "       'ADT_SiglecH_A0119', 'ADT_TCRVb5.1_5.2_A0354',\n",
       "       'ADT_TCRVb8.1_8.2_A0235', 'ADT_TCRVr1.1-Cr4_A0209',\n",
       "       'ADT_TCRVr2_A0211', 'ADT_TCRVr3_A0210', 'ADT_TCRbchain_A0120',\n",
       "       'ADT_TCRr-d_A0121', 'ADT_TER-119-ErythroidCells_A0122',\n",
       "       'ADT_Tim-4_A0567', 'ADT_XCR1_A0568', 'ADT_anti-P2RY12_A0415',\n",
       "       'ADT_integrinb7_A0214', 'HTO_B6_LN_r4_206_A0301',\n",
       "       'HTO_B6_spl_r4_206_A0302'], dtype=object)"
      ]
     },
     "execution_count": 21,
     "metadata": {},
     "output_type": "execute_result"
    }
   ],
   "source": [
    "dataset_BioLegend.uns[\"protein_names\"]"
   ]
  },
  {
   "cell_type": "markdown",
   "metadata": {},
   "source": [
    "### Load Berkeley data and filter"
   ]
  },
  {
   "cell_type": "code",
   "execution_count": 7,
   "metadata": {},
   "outputs": [],
   "source": [
    "# Load data path for Berkeley data\n",
    "\n",
    "save_path_Berkeley = \"/data/yosef2/users/zsteier/TotalSeq/20190718_NovaSeq_ZRS07/ZRS07_ZRS06_aggr_nonorm/outs/filtered_feature_bc_matrix\""
   ]
  },
  {
   "cell_type": "code",
   "execution_count": 8,
   "metadata": {},
   "outputs": [],
   "source": [
    "# Load data with scanpy\n",
    "\n",
    "dataset_Berkeley = sc.read_10x_mtx(save_path_Berkeley, gex_only=False)\n",
    "dataset_Berkeley.obsm[\"protein_expression\"] = dataset_Berkeley[\n",
    "    :, dataset_Berkeley.var[\"feature_types\"] == \"Antibody Capture\"].X.A\n",
    "dataset_Berkeley.uns[\"protein_names\"] = np.array(\n",
    "    dataset_Berkeley.var_names[dataset_Berkeley.var[\"feature_types\"] == \"Antibody Capture\"])\n",
    "dataset_Berkeley = dataset_Berkeley[\n",
    "    :, dataset_Berkeley.var[\"feature_types\"] != \"Antibody Capture\"].copy()\n",
    "dataset_Berkeley.X = dataset_Berkeley.X.A\n",
    "dataset_Berkeley.var_names_make_unique()"
   ]
  },
  {
   "cell_type": "code",
   "execution_count": 9,
   "metadata": {},
   "outputs": [],
   "source": [
    "# Add batch labels (substract 1 to start indexing at 0)\n",
    "\n",
    "dataset_Berkeley.obs[\"batch_indices\"] = [int(b.split(\"-\")[1]) - 1 for b in dataset_Berkeley.obs.index]"
   ]
  },
  {
   "cell_type": "code",
   "execution_count": 10,
   "metadata": {},
   "outputs": [
    {
     "data": {
      "text/plain": [
       "AnnData object with n_obs × n_vars = 42983 × 28692\n",
       "    obs: 'batch_indices'\n",
       "    var: 'gene_ids', 'feature_types'\n",
       "    uns: 'protein_names'\n",
       "    obsm: 'protein_expression'"
      ]
     },
     "execution_count": 10,
     "metadata": {},
     "output_type": "execute_result"
    }
   ],
   "source": [
    "dataset_Berkeley"
   ]
  },
  {
   "cell_type": "code",
   "execution_count": 26,
   "metadata": {},
   "outputs": [],
   "source": [
    "# Find proteins to keep\n",
    "protein_names = pd.read_csv(\"/data/yosef2/users/zsteier/totalVI/totalVI_journal/data/metadata/protein_metadata/TotalSeq_ADT206_ADT111_matched.csv\")\n",
    "protein_to_rna_table = pd.read_csv(\"/data/yosef2/users/zsteier/totalVI/totalVI_journal/data/metadata/protein_metadata/TotalSeq_ADT111_barcodes_RNA_20190717.csv\")\n",
    "\n",
    "# Subset on proteins included in this panel\n",
    "subset_111 = protein_names[\"name_111\"][~protein_names[\"name_111\"].isnull()].values # Berkeley dataset has 111 names\n",
    "keep = []\n",
    "for i, p in enumerate(dataset_Berkeley.uns[\"protein_names\"]):\n",
    "    if p in subset_111:\n",
    "        keep.append(i)\n",
    "dataset_Berkeley.obsm[\"protein_expression\"] = dataset_Berkeley.obsm[\"protein_expression\"][:, keep]\n",
    "dataset_Berkeley.uns[\"protein_names\"] = dataset_Berkeley.uns[\"protein_names\"][keep]\n",
    "\n",
    "# Some genes encode multiple protein so it's ok to overwrite key in this case as it will be included downstream\n",
    "protein_111_names = protein_names[\"name_111\"][\n",
    "    ~protein_names[\"name_111\"].isnull()\n",
    "].values\n",
    "g_to_p = {}\n",
    "for p1, p2 in zip(protein_111_names, subset_111):\n",
    "    ind = np.where(protein_to_rna_table[\"name\"] == p1)[0]\n",
    "    g_to_p[str(protein_to_rna_table.loc[ind, \"RNA\"].values[0])] = p2"
   ]
  },
  {
   "cell_type": "code",
   "execution_count": 27,
   "metadata": {},
   "outputs": [
    {
     "data": {
      "text/plain": [
       "array(['CD24_TotalA', 'CD25_TotalA', 'CD62L_TotalA', 'I-A_I-E_TotalA',\n",
       "       'CD54_TotalA', 'CD83_TotalA', 'CD55_(DAF)_TotalA',\n",
       "       'TCR_Vg1.1_Cr4_TotalA', 'rat_CD90_mouse_CD90.1_TotalA',\n",
       "       'CD68_TotalA', 'CD90.2_TotalA', 'CX3CR1_TotalA',\n",
       "       'TER-119_Erythroid_Cells_TotalA', 'CD366_(Tim-3)_TotalA',\n",
       "       'CD8b_(Ly-3)_TotalA', 'CD204_(Scavenger_R1)_TotalA', 'CD4_TotalA',\n",
       "       'CD5_TotalA', 'CD8a_TotalA', 'CD16_32_TotalA', 'CD23_TotalA',\n",
       "       'CD29_TotalA', 'CD38_TotalA', 'CD45_TotalA', 'CD45R_B220_TotalA',\n",
       "       'CD49d_TotalA', 'CD69_TotalA', 'CD86_TotalA', 'CD106_TotalA',\n",
       "       'CD117_(c-kit)_TotalA', 'NK-1.1_TotalA', 'TCR_b_chain_TotalA',\n",
       "       'CD45.1_TotalA', 'CD19_TotalA', 'CD150_(SLAM)_TotalA',\n",
       "       'CD11c_TotalA', 'TCR_g_d_TotalA', 'F4_80_TotalA', 'CD14_TotalA',\n",
       "       'CD21_CD35_(CR2_CR1)_TotalA', 'CD357_(GITR)_TotalA',\n",
       "       'CD183_(CXCR3)_TotalA', 'CD73_TotalA', 'Ly-6C_TotalA',\n",
       "       'Siglec_H_TotalA', 'FceRIa_TotalA', 'CD127_(IL-7Ra)_TotalA',\n",
       "       'CD115_(CSF-1R)_TotalA', 'ESAM_TotalA',\n",
       "       'CD93_(AA4.1_early_B_lineage)_TotalA', 'CD64_(FcgRI)_TotalA',\n",
       "       'CD304_(Neuropilin-1)_TotalA', 'IgD_TotalA',\n",
       "       'CD15_(SSEA-1)_TotalA', 'TCR_Vg2_TotalA', 'CD196_(CCR6)_TotalA',\n",
       "       'H-2Kb_bound_to_SIINFEKL_TotalA', 'TCR_Vb8.1_8.2_TotalA',\n",
       "       'IRF4_TotalA', 'CD195_(CCR5)_TotalA',\n",
       "       'Panendothelial_Cell_Antigen_TotalA', 'CD301a_TotalA',\n",
       "       'CD36_TotalA', 'CD370_(CLEC9A_DNGR1)_TotalA', 'XCR1_TotalA',\n",
       "       'TCR_Vb5.1_5.2_TotalA', 'CD326_(Ep-CAM)_TotalA', 'CD48_TotalA',\n",
       "       'CD102_TotalA', 'CD137_TotalA', 'Ly-6A_E_(Sca-1)_TotalA',\n",
       "       'CD200_(OX2)_TotalA', 'CD135_TotalA', 'CD43_TotalA',\n",
       "       'CD49f_TotalA', 'integrin_b7_TotalA', 'CD45.2_TotalA',\n",
       "       'CD79b_(Igb)_TotalA', 'CD63_TotalA', 'MAdCAM-1_TotalA',\n",
       "       'CD62P_(P-selectin)_TotalA', 'CD301b_TotalA',\n",
       "       'CD192_(CCR2)_TotalA', 'CD11a_TotalA', 'P2RY12_TotalA',\n",
       "       'Notch_1_TotalA', 'IgM_TotalA', 'CD103_TotalA', 'CD20_TotalA',\n",
       "       'Folate_Receptor_b_(FR-b)_TotalA', 'Tim-4_TotalA', 'CD71_TotalA',\n",
       "       'CD41_TotalA', 'CXCR4_TotalA', 'CD201_(EPCR)_TotalA',\n",
       "       'TCR_Vg3_TotalA', 'CD206_(MMR)_TotalA',\n",
       "       'CD274_(B7-H1_PD-L1)_TotalA', 'CD172a_(SIRPa)_TotalA',\n",
       "       'CD278_(ICOS)_TotalA', 'CD279_(PD-1)_TotalA',\n",
       "       'CD134_(OX-40)_TotalA', 'CD223_(LAG-3)_TotalA',\n",
       "       'CD335_(NKp46)_TotalA', 'CD169_Siglec-1_TotalA',\n",
       "       'CD300LG_(Nepmucin)_TotalA', 'CD140a_TotalA',\n",
       "       'CD122_(IL-2Rb)_TotalA', 'CD28_TotalA', 'CD197_(CCR7)_TotalA',\n",
       "       'MERTK_(Mer)_TotalA', 'Hashtag1_CD45_TotalA',\n",
       "       'Hashtag2_CD45_TotalA'], dtype=object)"
      ]
     },
     "execution_count": 27,
     "metadata": {},
     "output_type": "execute_result"
    }
   ],
   "source": [
    "dataset_Berkeley.uns[\"protein_names\"]"
   ]
  },
  {
   "cell_type": "markdown",
   "metadata": {},
   "source": [
    "__Order of filtering:__\n",
    "\n",
    "1. filter cells by mitochondrial reads\n",
    "2. filter cells by min genes\n",
    "3. filter cells by min and max proteins\n",
    "4. flter genes by min cells expressing them\n",
    "5. find highly variable genes"
   ]
  },
  {
   "cell_type": "code",
   "execution_count": 28,
   "metadata": {},
   "outputs": [],
   "source": [
    "# Calculate mitochondrial reads\n",
    "mito_genes = dataset_Berkeley.var_names.str.startswith(\"mt-\")\n",
    "dataset_Berkeley.obs[\"percent_mito\"] = np.sum(dataset_Berkeley[:, mito_genes].X, axis=1) / np.sum(dataset_Berkeley.X, axis=1)\n",
    "dataset_Berkeley.obs['n_counts'] = dataset_Berkeley.X.sum(axis=1)"
   ]
  },
  {
   "cell_type": "code",
   "execution_count": 29,
   "metadata": {},
   "outputs": [
    {
     "name": "stderr",
     "output_type": "stream",
     "text": [
      "... storing 'feature_types' as categorical\n"
     ]
    },
    {
     "data": {
      "image/png": "[encoded data removed]",
      "text/plain": [
       "<Figure size 487.93x288 with 1 Axes>"
      ]
     },
     "metadata": {},
     "output_type": "display_data"
    }
   ],
   "source": [
    "# Plot mitochondrial reads\n",
    "sc.pl.scatter(dataset_Berkeley, x='n_counts', y='percent_mito')"
   ]
  },
  {
   "cell_type": "code",
   "execution_count": 30,
   "metadata": {},
   "outputs": [
    {
     "data": {
      "text/plain": [
       "View of AnnData object with n_obs × n_vars = 41206 × 28692\n",
       "    obs: 'batch_indices', 'percent_mito', 'n_counts'\n",
       "    var: 'gene_ids', 'feature_types'\n",
       "    uns: 'protein_names'\n",
       "    obsm: 'protein_expression'"
      ]
     },
     "execution_count": 30,
     "metadata": {},
     "output_type": "execute_result"
    }
   ],
   "source": [
    "# Filter cells by mitochondrial reads\n",
    "dataset_Berkeley = dataset_Berkeley[dataset_Berkeley.obs[\"percent_mito\"] < 0.15, :]\n",
    "dataset_Berkeley"
   ]
  },
  {
   "cell_type": "code",
   "execution_count": 31,
   "metadata": {},
   "outputs": [
    {
     "name": "stderr",
     "output_type": "stream",
     "text": [
      "Trying to set attribute `.obs` of view, copying.\n"
     ]
    },
    {
     "data": {
      "text/plain": [
       "AnnData object with n_obs × n_vars = 41192 × 28692\n",
       "    obs: 'batch_indices', 'percent_mito', 'n_counts', 'n_genes'\n",
       "    var: 'gene_ids', 'feature_types'\n",
       "    uns: 'protein_names'\n",
       "    obsm: 'protein_expression'"
      ]
     },
     "execution_count": 31,
     "metadata": {},
     "output_type": "execute_result"
    }
   ],
   "source": [
    "# Filter cells by min_genes\n",
    "sc.pp.filter_cells(dataset_Berkeley, min_genes=200)\n",
    "dataset_Berkeley"
   ]
  },
  {
   "cell_type": "code",
   "execution_count": 32,
   "metadata": {},
   "outputs": [],
   "source": [
    "# calculate protein library size\n",
    "dataset_Berkeley.obs[\"n_protein_counts\"] = dataset_Berkeley.obsm[\"protein_expression\"].sum(axis=1)"
   ]
  },
  {
   "cell_type": "code",
   "execution_count": 33,
   "metadata": {},
   "outputs": [
    {
     "data": {
      "image/png": "[encoded data removed]",
      "text/plain": [
       "<Figure size 487.93x288 with 1 Axes>"
      ]
     },
     "metadata": {},
     "output_type": "display_data"
    }
   ],
   "source": [
    "# plot protein library size\n",
    "sc.pl.scatter(dataset_Berkeley, x='n_protein_counts', y='n_counts')"
   ]
  },
  {
   "cell_type": "code",
   "execution_count": 34,
   "metadata": {},
   "outputs": [
    {
     "data": {
      "image/png": "[encoded data removed]",
      "text/plain": [
       "<Figure size 432x288 with 1 Axes>"
      ]
     },
     "metadata": {},
     "output_type": "display_data"
    }
   ],
   "source": [
    "# Plot protein library size\n",
    "_ = plt.hist(np.log1p(dataset_Berkeley.obs[\"n_protein_counts\"]), bins = 50)"
   ]
  },
  {
   "cell_type": "code",
   "execution_count": 35,
   "metadata": {},
   "outputs": [
    {
     "data": {
      "text/plain": [
       "View of AnnData object with n_obs × n_vars = 37378 × 28692\n",
       "    obs: 'batch_indices', 'percent_mito', 'n_counts', 'n_genes', 'n_protein_counts'\n",
       "    var: 'gene_ids', 'feature_types'\n",
       "    uns: 'protein_names'\n",
       "    obsm: 'protein_expression'"
      ]
     },
     "execution_count": 35,
     "metadata": {},
     "output_type": "execute_result"
    }
   ],
   "source": [
    "# Filter by protein library size (manually selected based on histogram)\n",
    "keep_protein_cells = np.logical_and(\n",
    "    dataset_Berkeley.obs[\"n_protein_counts\"] >= 1000,\n",
    "    dataset_Berkeley.obs[\"n_protein_counts\"] <= 10000,\n",
    ")\n",
    "dataset_Berkeley = dataset_Berkeley[keep_protein_cells]\n",
    "dataset_Berkeley"
   ]
  },
  {
   "cell_type": "code",
   "execution_count": 36,
   "metadata": {},
   "outputs": [
    {
     "name": "stderr",
     "output_type": "stream",
     "text": [
      "Trying to set attribute `.var` of view, copying.\n"
     ]
    },
    {
     "data": {
      "text/plain": [
       "AnnData object with n_obs × n_vars = 37378 × 16548\n",
       "    obs: 'batch_indices', 'percent_mito', 'n_counts', 'n_genes', 'n_protein_counts'\n",
       "    var: 'gene_ids', 'feature_types', 'n_cells'\n",
       "    uns: 'protein_names'\n",
       "    obsm: 'protein_expression'"
      ]
     },
     "execution_count": 36,
     "metadata": {},
     "output_type": "execute_result"
    }
   ],
   "source": [
    "# Filter genes by expression in at least 4 cells\n",
    "sc.pp.filter_genes(dataset_Berkeley, min_cells=4)\n",
    "dataset_Berkeley"
   ]
  },
  {
   "cell_type": "code",
   "execution_count": 37,
   "metadata": {},
   "outputs": [],
   "source": [
    "# Rename proteins in Berkeley dataset to match the BioLegend 206 names\n",
    "berkeley_renamed = []\n",
    "for name111 in dataset_Berkeley.uns[\"protein_names\"]:\n",
    "    newname = protein_names.iloc[np.where(protein_names[\"name_111\"] == name111)][\"name_206\"].values[0]\n",
    "    berkeley_renamed.append(newname)\n",
    "                                               \n",
    "berkeley_renamed = np.array(berkeley_renamed)\n",
    "dataset_Berkeley.uns[\"protein_names\"] = berkeley_renamed "
   ]
  },
  {
   "cell_type": "code",
   "execution_count": 38,
   "metadata": {},
   "outputs": [
    {
     "data": {
      "text/html": [
       "<div>\n",
       "<style scoped>\n",
       "    .dataframe tbody tr th:only-of-type {\n",
       "        vertical-align: middle;\n",
       "    }\n",
       "\n",
       "    .dataframe tbody tr th {\n",
       "        vertical-align: top;\n",
       "    }\n",
       "\n",
       "    .dataframe thead th {\n",
       "        text-align: right;\n",
       "    }\n",
       "</style>\n",
       "<table border=\"1\" class=\"dataframe\">\n",
       "  <thead>\n",
       "    <tr style=\"text-align: right;\">\n",
       "      <th></th>\n",
       "      <th>ADT_CD102_A0104</th>\n",
       "      <th>ADT_CD103_A0201</th>\n",
       "      <th>ADT_CD106_A0226</th>\n",
       "      <th>ADT_CD115(CSF-1R)_A0105</th>\n",
       "      <th>ADT_CD117(c-Kit)_A0012</th>\n",
       "      <th>ADT_CD11a_A0595</th>\n",
       "      <th>ADT_CD11c_A0106</th>\n",
       "      <th>ADT_CD122(IL-2Rb)_A0227</th>\n",
       "      <th>ADT_CD127(IL-7Ra)_A0198</th>\n",
       "      <th>ADT_CD134(OX-40)_A0195</th>\n",
       "      <th>...</th>\n",
       "      <th>ADT_TCRVr3_A0210</th>\n",
       "      <th>ADT_TCRbchain_A0120</th>\n",
       "      <th>ADT_TCRr-d_A0121</th>\n",
       "      <th>ADT_TER-119-ErythroidCells_A0122</th>\n",
       "      <th>ADT_Tim-4_A0567</th>\n",
       "      <th>ADT_XCR1_A0568</th>\n",
       "      <th>ADT_anti-P2RY12_A0415</th>\n",
       "      <th>ADT_integrinb7_A0214</th>\n",
       "      <th>HTO_B6_LN_r4_206_A0301</th>\n",
       "      <th>HTO_B6_spl_r4_206_A0302</th>\n",
       "    </tr>\n",
       "  </thead>\n",
       "  <tbody>\n",
       "    <tr>\n",
       "      <th>0</th>\n",
       "      <td>136.0</td>\n",
       "      <td>45.0</td>\n",
       "      <td>4.0</td>\n",
       "      <td>1.0</td>\n",
       "      <td>5.0</td>\n",
       "      <td>527.0</td>\n",
       "      <td>14.0</td>\n",
       "      <td>1.0</td>\n",
       "      <td>29.0</td>\n",
       "      <td>126.0</td>\n",
       "      <td>...</td>\n",
       "      <td>6.0</td>\n",
       "      <td>164.0</td>\n",
       "      <td>6.0</td>\n",
       "      <td>0.0</td>\n",
       "      <td>6.0</td>\n",
       "      <td>5.0</td>\n",
       "      <td>5.0</td>\n",
       "      <td>48.0</td>\n",
       "      <td>108.0</td>\n",
       "      <td>0.0</td>\n",
       "    </tr>\n",
       "    <tr>\n",
       "      <th>1</th>\n",
       "      <td>253.0</td>\n",
       "      <td>31.0</td>\n",
       "      <td>3.0</td>\n",
       "      <td>2.0</td>\n",
       "      <td>3.0</td>\n",
       "      <td>946.0</td>\n",
       "      <td>7.0</td>\n",
       "      <td>2.0</td>\n",
       "      <td>15.0</td>\n",
       "      <td>116.0</td>\n",
       "      <td>...</td>\n",
       "      <td>3.0</td>\n",
       "      <td>74.0</td>\n",
       "      <td>7.0</td>\n",
       "      <td>0.0</td>\n",
       "      <td>6.0</td>\n",
       "      <td>4.0</td>\n",
       "      <td>6.0</td>\n",
       "      <td>9.0</td>\n",
       "      <td>141.0</td>\n",
       "      <td>0.0</td>\n",
       "    </tr>\n",
       "    <tr>\n",
       "      <th>2</th>\n",
       "      <td>141.0</td>\n",
       "      <td>32.0</td>\n",
       "      <td>2.0</td>\n",
       "      <td>12.0</td>\n",
       "      <td>3.0</td>\n",
       "      <td>505.0</td>\n",
       "      <td>12.0</td>\n",
       "      <td>5.0</td>\n",
       "      <td>18.0</td>\n",
       "      <td>89.0</td>\n",
       "      <td>...</td>\n",
       "      <td>6.0</td>\n",
       "      <td>110.0</td>\n",
       "      <td>3.0</td>\n",
       "      <td>1.0</td>\n",
       "      <td>3.0</td>\n",
       "      <td>8.0</td>\n",
       "      <td>4.0</td>\n",
       "      <td>115.0</td>\n",
       "      <td>128.0</td>\n",
       "      <td>0.0</td>\n",
       "    </tr>\n",
       "    <tr>\n",
       "      <th>3</th>\n",
       "      <td>365.0</td>\n",
       "      <td>22.0</td>\n",
       "      <td>7.0</td>\n",
       "      <td>7.0</td>\n",
       "      <td>10.0</td>\n",
       "      <td>412.0</td>\n",
       "      <td>11.0</td>\n",
       "      <td>3.0</td>\n",
       "      <td>7.0</td>\n",
       "      <td>42.0</td>\n",
       "      <td>...</td>\n",
       "      <td>11.0</td>\n",
       "      <td>8.0</td>\n",
       "      <td>7.0</td>\n",
       "      <td>3.0</td>\n",
       "      <td>8.0</td>\n",
       "      <td>8.0</td>\n",
       "      <td>6.0</td>\n",
       "      <td>8.0</td>\n",
       "      <td>65.0</td>\n",
       "      <td>0.0</td>\n",
       "    </tr>\n",
       "    <tr>\n",
       "      <th>4</th>\n",
       "      <td>127.0</td>\n",
       "      <td>13.0</td>\n",
       "      <td>8.0</td>\n",
       "      <td>3.0</td>\n",
       "      <td>2.0</td>\n",
       "      <td>851.0</td>\n",
       "      <td>5.0</td>\n",
       "      <td>6.0</td>\n",
       "      <td>8.0</td>\n",
       "      <td>64.0</td>\n",
       "      <td>...</td>\n",
       "      <td>11.0</td>\n",
       "      <td>18.0</td>\n",
       "      <td>7.0</td>\n",
       "      <td>0.0</td>\n",
       "      <td>4.0</td>\n",
       "      <td>4.0</td>\n",
       "      <td>4.0</td>\n",
       "      <td>7.0</td>\n",
       "      <td>79.0</td>\n",
       "      <td>0.0</td>\n",
       "    </tr>\n",
       "    <tr>\n",
       "      <th>...</th>\n",
       "      <td>...</td>\n",
       "      <td>...</td>\n",
       "      <td>...</td>\n",
       "      <td>...</td>\n",
       "      <td>...</td>\n",
       "      <td>...</td>\n",
       "      <td>...</td>\n",
       "      <td>...</td>\n",
       "      <td>...</td>\n",
       "      <td>...</td>\n",
       "      <td>...</td>\n",
       "      <td>...</td>\n",
       "      <td>...</td>\n",
       "      <td>...</td>\n",
       "      <td>...</td>\n",
       "      <td>...</td>\n",
       "      <td>...</td>\n",
       "      <td>...</td>\n",
       "      <td>...</td>\n",
       "      <td>...</td>\n",
       "      <td>...</td>\n",
       "    </tr>\n",
       "    <tr>\n",
       "      <th>37373</th>\n",
       "      <td>80.0</td>\n",
       "      <td>12.0</td>\n",
       "      <td>4.0</td>\n",
       "      <td>2.0</td>\n",
       "      <td>3.0</td>\n",
       "      <td>178.0</td>\n",
       "      <td>1.0</td>\n",
       "      <td>0.0</td>\n",
       "      <td>1.0</td>\n",
       "      <td>15.0</td>\n",
       "      <td>...</td>\n",
       "      <td>3.0</td>\n",
       "      <td>7.0</td>\n",
       "      <td>4.0</td>\n",
       "      <td>0.0</td>\n",
       "      <td>5.0</td>\n",
       "      <td>2.0</td>\n",
       "      <td>2.0</td>\n",
       "      <td>4.0</td>\n",
       "      <td>0.0</td>\n",
       "      <td>0.0</td>\n",
       "    </tr>\n",
       "    <tr>\n",
       "      <th>37374</th>\n",
       "      <td>101.0</td>\n",
       "      <td>15.0</td>\n",
       "      <td>4.0</td>\n",
       "      <td>5.0</td>\n",
       "      <td>2.0</td>\n",
       "      <td>118.0</td>\n",
       "      <td>4.0</td>\n",
       "      <td>3.0</td>\n",
       "      <td>2.0</td>\n",
       "      <td>13.0</td>\n",
       "      <td>...</td>\n",
       "      <td>3.0</td>\n",
       "      <td>3.0</td>\n",
       "      <td>3.0</td>\n",
       "      <td>0.0</td>\n",
       "      <td>3.0</td>\n",
       "      <td>2.0</td>\n",
       "      <td>2.0</td>\n",
       "      <td>4.0</td>\n",
       "      <td>0.0</td>\n",
       "      <td>0.0</td>\n",
       "    </tr>\n",
       "    <tr>\n",
       "      <th>37375</th>\n",
       "      <td>37.0</td>\n",
       "      <td>16.0</td>\n",
       "      <td>1.0</td>\n",
       "      <td>1.0</td>\n",
       "      <td>2.0</td>\n",
       "      <td>226.0</td>\n",
       "      <td>2.0</td>\n",
       "      <td>1.0</td>\n",
       "      <td>0.0</td>\n",
       "      <td>8.0</td>\n",
       "      <td>...</td>\n",
       "      <td>10.0</td>\n",
       "      <td>19.0</td>\n",
       "      <td>4.0</td>\n",
       "      <td>1.0</td>\n",
       "      <td>1.0</td>\n",
       "      <td>2.0</td>\n",
       "      <td>3.0</td>\n",
       "      <td>5.0</td>\n",
       "      <td>0.0</td>\n",
       "      <td>0.0</td>\n",
       "    </tr>\n",
       "    <tr>\n",
       "      <th>37376</th>\n",
       "      <td>125.0</td>\n",
       "      <td>10.0</td>\n",
       "      <td>5.0</td>\n",
       "      <td>1.0</td>\n",
       "      <td>1.0</td>\n",
       "      <td>196.0</td>\n",
       "      <td>2.0</td>\n",
       "      <td>1.0</td>\n",
       "      <td>1.0</td>\n",
       "      <td>10.0</td>\n",
       "      <td>...</td>\n",
       "      <td>3.0</td>\n",
       "      <td>20.0</td>\n",
       "      <td>10.0</td>\n",
       "      <td>0.0</td>\n",
       "      <td>1.0</td>\n",
       "      <td>2.0</td>\n",
       "      <td>3.0</td>\n",
       "      <td>0.0</td>\n",
       "      <td>0.0</td>\n",
       "      <td>0.0</td>\n",
       "    </tr>\n",
       "    <tr>\n",
       "      <th>37377</th>\n",
       "      <td>86.0</td>\n",
       "      <td>7.0</td>\n",
       "      <td>4.0</td>\n",
       "      <td>5.0</td>\n",
       "      <td>4.0</td>\n",
       "      <td>188.0</td>\n",
       "      <td>2.0</td>\n",
       "      <td>2.0</td>\n",
       "      <td>0.0</td>\n",
       "      <td>2.0</td>\n",
       "      <td>...</td>\n",
       "      <td>2.0</td>\n",
       "      <td>9.0</td>\n",
       "      <td>7.0</td>\n",
       "      <td>0.0</td>\n",
       "      <td>6.0</td>\n",
       "      <td>3.0</td>\n",
       "      <td>4.0</td>\n",
       "      <td>2.0</td>\n",
       "      <td>0.0</td>\n",
       "      <td>0.0</td>\n",
       "    </tr>\n",
       "  </tbody>\n",
       "</table>\n",
       "<p>37378 rows × 113 columns</p>\n",
       "</div>"
      ],
      "text/plain": [
       "       ADT_CD102_A0104  ADT_CD103_A0201  ADT_CD106_A0226  \\\n",
       "0                136.0             45.0              4.0   \n",
       "1                253.0             31.0              3.0   \n",
       "2                141.0             32.0              2.0   \n",
       "3                365.0             22.0              7.0   \n",
       "4                127.0             13.0              8.0   \n",
       "...                ...              ...              ...   \n",
       "37373             80.0             12.0              4.0   \n",
       "37374            101.0             15.0              4.0   \n",
       "37375             37.0             16.0              1.0   \n",
       "37376            125.0             10.0              5.0   \n",
       "37377             86.0              7.0              4.0   \n",
       "\n",
       "       ADT_CD115(CSF-1R)_A0105  ADT_CD117(c-Kit)_A0012  ADT_CD11a_A0595  \\\n",
       "0                          1.0                     5.0            527.0   \n",
       "1                          2.0                     3.0            946.0   \n",
       "2                         12.0                     3.0            505.0   \n",
       "3                          7.0                    10.0            412.0   \n",
       "4                          3.0                     2.0            851.0   \n",
       "...                        ...                     ...              ...   \n",
       "37373                      2.0                     3.0            178.0   \n",
       "37374                      5.0                     2.0            118.0   \n",
       "37375                      1.0                     2.0            226.0   \n",
       "37376                      1.0                     1.0            196.0   \n",
       "37377                      5.0                     4.0            188.0   \n",
       "\n",
       "       ADT_CD11c_A0106  ADT_CD122(IL-2Rb)_A0227  ADT_CD127(IL-7Ra)_A0198  \\\n",
       "0                 14.0                      1.0                     29.0   \n",
       "1                  7.0                      2.0                     15.0   \n",
       "2                 12.0                      5.0                     18.0   \n",
       "3                 11.0                      3.0                      7.0   \n",
       "4                  5.0                      6.0                      8.0   \n",
       "...                ...                      ...                      ...   \n",
       "37373              1.0                      0.0                      1.0   \n",
       "37374              4.0                      3.0                      2.0   \n",
       "37375              2.0                      1.0                      0.0   \n",
       "37376              2.0                      1.0                      1.0   \n",
       "37377              2.0                      2.0                      0.0   \n",
       "\n",
       "       ADT_CD134(OX-40)_A0195  ...  ADT_TCRVr3_A0210  ADT_TCRbchain_A0120  \\\n",
       "0                       126.0  ...               6.0                164.0   \n",
       "1                       116.0  ...               3.0                 74.0   \n",
       "2                        89.0  ...               6.0                110.0   \n",
       "3                        42.0  ...              11.0                  8.0   \n",
       "4                        64.0  ...              11.0                 18.0   \n",
       "...                       ...  ...               ...                  ...   \n",
       "37373                    15.0  ...               3.0                  7.0   \n",
       "37374                    13.0  ...               3.0                  3.0   \n",
       "37375                     8.0  ...              10.0                 19.0   \n",
       "37376                    10.0  ...               3.0                 20.0   \n",
       "37377                     2.0  ...               2.0                  9.0   \n",
       "\n",
       "       ADT_TCRr-d_A0121  ADT_TER-119-ErythroidCells_A0122  ADT_Tim-4_A0567  \\\n",
       "0                   6.0                               0.0              6.0   \n",
       "1                   7.0                               0.0              6.0   \n",
       "2                   3.0                               1.0              3.0   \n",
       "3                   7.0                               3.0              8.0   \n",
       "4                   7.0                               0.0              4.0   \n",
       "...                 ...                               ...              ...   \n",
       "37373               4.0                               0.0              5.0   \n",
       "37374               3.0                               0.0              3.0   \n",
       "37375               4.0                               1.0              1.0   \n",
       "37376              10.0                               0.0              1.0   \n",
       "37377               7.0                               0.0              6.0   \n",
       "\n",
       "       ADT_XCR1_A0568  ADT_anti-P2RY12_A0415  ADT_integrinb7_A0214  \\\n",
       "0                 5.0                    5.0                  48.0   \n",
       "1                 4.0                    6.0                   9.0   \n",
       "2                 8.0                    4.0                 115.0   \n",
       "3                 8.0                    6.0                   8.0   \n",
       "4                 4.0                    4.0                   7.0   \n",
       "...               ...                    ...                   ...   \n",
       "37373             2.0                    2.0                   4.0   \n",
       "37374             2.0                    2.0                   4.0   \n",
       "37375             2.0                    3.0                   5.0   \n",
       "37376             2.0                    3.0                   0.0   \n",
       "37377             3.0                    4.0                   2.0   \n",
       "\n",
       "       HTO_B6_LN_r4_206_A0301  HTO_B6_spl_r4_206_A0302  \n",
       "0                       108.0                      0.0  \n",
       "1                       141.0                      0.0  \n",
       "2                       128.0                      0.0  \n",
       "3                        65.0                      0.0  \n",
       "4                        79.0                      0.0  \n",
       "...                       ...                      ...  \n",
       "37373                     0.0                      0.0  \n",
       "37374                     0.0                      0.0  \n",
       "37375                     0.0                      0.0  \n",
       "37376                     0.0                      0.0  \n",
       "37377                     0.0                      0.0  \n",
       "\n",
       "[37378 rows x 113 columns]"
      ]
     },
     "execution_count": 38,
     "metadata": {},
     "output_type": "execute_result"
    }
   ],
   "source": [
    "# Rearrange Berkeley protein expression data in the same order as the BioLegend data\n",
    "berkeley_prot_expression = pd.DataFrame(dataset_Berkeley.obsm[\"protein_expression\"], \n",
    "                                        columns = dataset_Berkeley.uns[\"protein_names\"])\n",
    "\n",
    "berkeley_prot_rearranged = berkeley_prot_expression[dataset_BioLegend.uns[\"protein_names\"]]\n",
    "berkeley_prot_rearranged"
   ]
  },
  {
   "cell_type": "code",
   "execution_count": 39,
   "metadata": {},
   "outputs": [],
   "source": [
    "# Add reordered protein expression so that Berkeley and BioLegend data match\n",
    "dataset_Berkeley.obsm[\"protein_expression\"] = np.asarray(berkeley_prot_rearranged)"
   ]
  },
  {
   "cell_type": "code",
   "execution_count": 43,
   "metadata": {},
   "outputs": [],
   "source": [
    "# Reorder protein_names to match protein_expression\n",
    "dataset_Berkeley.uns[\"protein_names\"] = berkeley_prot_rearranged.columns.values"
   ]
  },
  {
   "cell_type": "code",
   "execution_count": 45,
   "metadata": {},
   "outputs": [],
   "source": [
    "# Calculate number of proteins detected per cell\n",
    "dataset_Berkeley.obs[\"n_proteins\"] = (dataset_Berkeley.obsm[\"protein_expression\"] > 0).sum(axis=1)"
   ]
  },
  {
   "cell_type": "code",
   "execution_count": 46,
   "metadata": {},
   "outputs": [
    {
     "data": {
      "image/png": "[encoded data removed]",
      "text/plain": [
       "<Figure size 432x288 with 1 Axes>"
      ]
     },
     "metadata": {},
     "output_type": "display_data"
    }
   ],
   "source": [
    "# Plot number of proteins\n",
    "_ = plt.hist((dataset_Berkeley.obs[\"n_proteins\"]), bins = 30)"
   ]
  },
  {
   "cell_type": "code",
   "execution_count": 47,
   "metadata": {},
   "outputs": [],
   "source": [
    "# filtering by number of proteins (these were manually selected based on histogram)\n",
    "keep_protein_cells = dataset_Berkeley.obs[\"n_proteins\"] >= 70\n",
    "dataset_Berkeley = dataset_Berkeley[keep_protein_cells]"
   ]
  },
  {
   "cell_type": "code",
   "execution_count": 48,
   "metadata": {},
   "outputs": [
    {
     "data": {
      "text/plain": [
       "View of AnnData object with n_obs × n_vars = 36058 × 16548\n",
       "    obs: 'batch_indices', 'percent_mito', 'n_counts', 'n_genes', 'n_protein_counts', 'n_proteins'\n",
       "    var: 'gene_ids', 'feature_types', 'n_cells'\n",
       "    uns: 'protein_names'\n",
       "    obsm: 'protein_expression'"
      ]
     },
     "execution_count": 48,
     "metadata": {},
     "output_type": "execute_result"
    }
   ],
   "source": [
    "dataset_Berkeley"
   ]
  },
  {
   "cell_type": "markdown",
   "metadata": {},
   "source": [
    "## Find highly variable genes and genes of interest"
   ]
  },
  {
   "cell_type": "markdown",
   "metadata": {},
   "source": [
    "### Find genes of interest\n",
    "Genes are related to TCR signaling pathways and fate commitment"
   ]
  },
  {
   "cell_type": "code",
   "execution_count": 49,
   "metadata": {},
   "outputs": [],
   "source": [
    "# Load two lists of genes of interest (genes are related to TCR signaling pathways and fate commitment)\n",
    "Laura_genes = pd.read_csv(\"Laura_genes_of_interest.csv\")\n",
    "Laura_genes = np.asarray([gene.lower().capitalize() for gene in Laura_genes.Gene])\n",
    "ZRS_genes = np.array(pd.read_csv(\"ZRS_genes_of_interest.csv\").Gene)"
   ]
  },
  {
   "cell_type": "code",
   "execution_count": 50,
   "metadata": {},
   "outputs": [
    {
     "data": {
      "text/plain": [
       "256"
      ]
     },
     "execution_count": 50,
     "metadata": {},
     "output_type": "execute_result"
    }
   ],
   "source": [
    "# Find overlap with gene lists\n",
    "genes_of_interest = np.unique(np.concatenate((Laura_genes, ZRS_genes))) # keep unique genes\n",
    "len(genes_of_interest)"
   ]
  },
  {
   "cell_type": "markdown",
   "metadata": {},
   "source": [
    "### Find highly variable genes"
   ]
  },
  {
   "cell_type": "code",
   "execution_count": 51,
   "metadata": {},
   "outputs": [
    {
     "data": {
      "text/plain": [
       "AnnData object with n_obs × n_vars = 72042 × 15948\n",
       "    obs: 'batch_indices', 'percent_mito', 'n_counts', 'n_genes', 'n_protein_counts', 'n_proteins', 'batch'\n",
       "    var: 'gene_ids', 'feature_types', 'n_cells-0', 'n_cells-1'\n",
       "    obsm: 'protein_expression'"
      ]
     },
     "execution_count": 51,
     "metadata": {},
     "output_type": "execute_result"
    }
   ],
   "source": [
    "# Concatenate the two datasets\n",
    "# Batch indices will retain the values 0-18\n",
    "# Batch will be 0, 1 for Berkeley, BioLegend\n",
    "\n",
    "adata_total = anndata.AnnData.concatenate(dataset_Berkeley, dataset_BioLegend)\n",
    "# For this purpose, set batch_indices equal to batch (because batch_indices are used to create HVG list in scVI)\n",
    "adata_total.obs[\"batch_indices\"] = adata_total.obs[\"batch\"]\n",
    "adata_total"
   ]
  },
  {
   "cell_type": "code",
   "execution_count": 52,
   "metadata": {},
   "outputs": [
    {
     "data": {
      "text/plain": [
       "AAACCCAAGACTACCT-1-0    0\n",
       "AAACCCAAGGACATCG-1-0    0\n",
       "AAACCCACATTCTCCG-1-0    0\n",
       "AAACGAACACGCTGCA-1-0    0\n",
       "AAACGCTGTCAACACT-1-0    0\n",
       "                       ..\n",
       "TTTGATCTCACCTACC-8-1    1\n",
       "TTTGGAGCAGACCTGC-8-1    1\n",
       "TTTGGTTTCGACCATA-8-1    1\n",
       "TTTGTTGAGTTTGAGA-8-1    1\n",
       "TTTGTTGGTGTTCGAT-8-1    1\n",
       "Name: batch_indices, Length: 72042, dtype: category\n",
       "Categories (2, object): [0, 1]"
      ]
     },
     "execution_count": 52,
     "metadata": {},
     "output_type": "execute_result"
    }
   ],
   "source": [
    "adata_total.obs[\"batch_indices\"]"
   ]
  },
  {
   "cell_type": "code",
   "execution_count": 53,
   "metadata": {},
   "outputs": [
    {
     "name": "stdout",
     "output_type": "stream",
     "text": [
      "[2020-05-29 12:46:39,445] INFO - scvi.dataset.dataset | Remapping labels to [0,N]\n",
      "[2020-05-29 12:46:39,449] INFO - scvi.dataset.dataset | Remapping batch_indices to [0,N]\n",
      "[2020-05-29 12:47:35,713] INFO - scvi.dataset.dataset | Computing the library size for the new data\n",
      "[2020-05-29 12:47:37,612] INFO - scvi.dataset.dataset | Downsampled from 72042 to 72042 cells\n",
      "[2020-05-29 12:47:37,630] INFO - scvi.dataset.dataset | extracting highly variable genes using seurat_v3 flavor\n"
     ]
    },
    {
     "name": "stderr",
     "output_type": "stream",
     "text": [
      "/data/yosef2/users/zsteier/programs/miniconda/envs/scvi_065/lib/python3.7/site-packages/anndata/_core/anndata.py:119: ImplicitModificationWarning: Transforming to str index.\n",
      "  warnings.warn(\"Transforming to str index.\", ImplicitModificationWarning)\n"
     ]
    },
    {
     "name": "stdout",
     "output_type": "stream",
     "text": [
      "[2020-05-29 12:48:57,457] INFO - scvi.dataset.dataset | Downsampling from 15948 to 5000 genes\n",
      "[2020-05-29 12:49:03,696] INFO - scvi.dataset.dataset | Computing the library size for the new data\n",
      "[2020-05-29 12:49:05,199] INFO - scvi.dataset.dataset | Filtering non-expressing cells.\n",
      "[2020-05-29 12:49:10,228] INFO - scvi.dataset.dataset | Computing the library size for the new data\n",
      "[2020-05-29 12:49:10,812] INFO - scvi.dataset.dataset | Downsampled from 72042 to 72042 cells\n"
     ]
    },
    {
     "data": {
      "text/plain": [
       "GeneExpressionDataset object with n_cells x nb_genes = 72042 x 5000\n",
       "    gene_attribute_names: 'feature_types', 'gene_names', 'gene_ids', 'n_cells-0', 'n_cells-1'\n",
       "    cell_attribute_names: 'n_protein_counts', 'n_counts', 'local_vars', 'n_genes', 'local_means', 'batch', 'batch_indices', 'percent_mito', 'n_proteins', 'labels'\n",
       "    cell_categorical_attribute_names: 'labels', 'batch_indices'"
      ]
     },
     "execution_count": 53,
     "metadata": {},
     "output_type": "execute_result"
    }
   ],
   "source": [
    "# Find highly variable genes using scVI implementation of Seurat v3 method\n",
    "# Find HVGs per batch, where Berkeley is one batch and BioLegend is a second\n",
    "\n",
    "# Create scVI dataset from anndata object\n",
    "dataset = AnnDatasetFromAnnData(ad = adata_total)\n",
    "\n",
    "# Find highly variable genes by Seurat v3 method using Berkeley/BioLegend as batch info\n",
    "dataset.subsample_genes(new_n_genes = 5000, mode = \"seurat_v3\", batch_correction = True)\n",
    "dataset"
   ]
  },
  {
   "cell_type": "code",
   "execution_count": 54,
   "metadata": {},
   "outputs": [],
   "source": [
    "# Get names of 5000 highly variable genes\n",
    "highly_variable = dataset.gene_names"
   ]
  },
  {
   "cell_type": "markdown",
   "metadata": {},
   "source": [
    "### Select genes to keep"
   ]
  },
  {
   "cell_type": "code",
   "execution_count": 55,
   "metadata": {},
   "outputs": [
    {
     "name": "stderr",
     "output_type": "stream",
     "text": [
      "Trying to set attribute `.obs` of view, copying.\n"
     ]
    }
   ],
   "source": [
    "# Reset batch indices\n",
    "dataset_BioLegend.obs[\"batch_indices\"] = dataset_BioLegend.obs[\"batch_indices\"] - 11 "
   ]
  },
  {
   "cell_type": "code",
   "execution_count": 56,
   "metadata": {},
   "outputs": [
    {
     "name": "stderr",
     "output_type": "stream",
     "text": [
      "Trying to set attribute `.var` of view, copying.\n"
     ]
    }
   ],
   "source": [
    "# Add highly variable gene labels to the datasets\n",
    "# Find which genes are highly variable in each of the sets\n",
    "dataset_Berkeley.var[\"highly_variable\"] = [gene in highly_variable for gene in dataset_Berkeley.var.index]\n",
    "dataset_BioLegend.var[\"highly_variable\"] = [gene in highly_variable for gene in dataset_BioLegend.var.index]"
   ]
  },
  {
   "cell_type": "code",
   "execution_count": 57,
   "metadata": {},
   "outputs": [],
   "source": [
    "# Berkeley data\n",
    "# Keep genes that encode proteins\n",
    "encode = []\n",
    "for g in dataset_Berkeley.var.index:\n",
    "    if g in g_to_p.keys():\n",
    "        encode.append(g_to_p[g])\n",
    "    else:\n",
    "        encode.append(None)\n",
    "encode = np.array(encode)\n",
    "dataset_Berkeley.var[\"encode\"] = encode\n",
    "\n",
    "# Also keep genes that are of interest\n",
    "ofinterest = [gene in genes_of_interest for gene in dataset_Berkeley.var.index]\n",
    "dataset_Berkeley.var[\"ofinterest\"] = ofinterest\n",
    "\n",
    "# highly variable and encode protein\n",
    "dataset_Berkeley.var[\"hvg_encode\"] = np.logical_or(\n",
    "    (dataset_Berkeley.var[\"highly_variable\"]).values, (dataset_Berkeley.var[\"encode\"].values != None)\n",
    ")\n",
    "\n",
    "# highly variable/encode protein or is a gene of interest\n",
    "dataset_Berkeley.var[\"hvg_plus\"] = np.logical_or(\n",
    "    (dataset_Berkeley.var[\"hvg_encode\"]).values, (dataset_Berkeley.var[\"ofinterest\"].values)\n",
    ")\n",
    "\n",
    "#BioLegend data\n",
    "# Keep genes that encode proteins\n",
    "encode = []\n",
    "for g in dataset_BioLegend.var.index:\n",
    "    if g in g_to_p.keys():\n",
    "        encode.append(g_to_p[g])\n",
    "    else:\n",
    "        encode.append(None)\n",
    "encode = np.array(encode)\n",
    "dataset_BioLegend.var[\"encode\"] = encode\n",
    "\n",
    "# Also keep genes that are of interest\n",
    "ofinterest = [gene in genes_of_interest for gene in dataset_BioLegend.var.index]\n",
    "dataset_BioLegend.var[\"ofinterest\"] = ofinterest\n",
    "\n",
    "# highly variable and encode protein\n",
    "dataset_BioLegend.var[\"hvg_encode\"] = np.logical_or(\n",
    "    (dataset_BioLegend.var[\"highly_variable\"]).values, (dataset_BioLegend.var[\"encode\"].values != None)\n",
    ")\n",
    "\n",
    "# highly variable/encode protein or is a gene of interest\n",
    "dataset_BioLegend.var[\"hvg_plus\"] = np.logical_or(\n",
    "    (dataset_BioLegend.var[\"hvg_encode\"]).values, (dataset_BioLegend.var[\"ofinterest\"].values)\n",
    ")"
   ]
  },
  {
   "cell_type": "code",
   "execution_count": 58,
   "metadata": {},
   "outputs": [
    {
     "data": {
      "text/plain": [
       "108"
      ]
     },
     "execution_count": 58,
     "metadata": {},
     "output_type": "execute_result"
    }
   ],
   "source": [
    "# Keep genes of interest\n",
    "# In total, the additional genes of interest added 108 genes and genes that encode proteins added 17\n",
    "np.sum(dataset_Berkeley.var[\"hvg_plus\"]) - np.sum(dataset_BioLegend.var[\"hvg_encode\"])"
   ]
  },
  {
   "cell_type": "code",
   "execution_count": 59,
   "metadata": {},
   "outputs": [
    {
     "data": {
      "text/plain": [
       "5017"
      ]
     },
     "execution_count": 59,
     "metadata": {},
     "output_type": "execute_result"
    }
   ],
   "source": [
    "np.sum(dataset_Berkeley.var[\"hvg_encode\"])"
   ]
  },
  {
   "cell_type": "code",
   "execution_count": 60,
   "metadata": {},
   "outputs": [
    {
     "name": "stdout",
     "output_type": "stream",
     "text": [
      "hvg_plus contains 5125 genes\n",
      "hvg_plus contains 5125 genes\n"
     ]
    }
   ],
   "source": [
    "print(\"hvg_plus contains {} genes\".format(np.sum(dataset_Berkeley.var[\"hvg_plus\"])))\n",
    "print(\"hvg_plus contains {} genes\".format(np.sum(dataset_BioLegend.var[\"hvg_plus\"])))"
   ]
  },
  {
   "cell_type": "markdown",
   "metadata": {},
   "source": [
    "## Save anndata objects"
   ]
  },
  {
   "cell_type": "code",
   "execution_count": 61,
   "metadata": {},
   "outputs": [
    {
     "data": {
      "text/plain": [
       "'/data/yosef2/users/zsteier/TotalSeq/20190814_BioLegend_ZRS08/analysis/totalVI_thymus/thymus111_allbatches_stable'"
      ]
     },
     "execution_count": 61,
     "metadata": {},
     "output_type": "execute_result"
    }
   ],
   "source": [
    "os.getcwd()"
   ]
  },
  {
   "cell_type": "code",
   "execution_count": 62,
   "metadata": {},
   "outputs": [
    {
     "name": "stderr",
     "output_type": "stream",
     "text": [
      "... storing 'encode' as categorical\n",
      "... storing 'encode' as categorical\n"
     ]
    }
   ],
   "source": [
    "dataset_Berkeley.write(\"Berkeley_111.h5ad\", compression=\"gzip\")\n",
    "dataset_BioLegend.write(\"BioLegend_111.h5ad\", compression=\"gzip\")"
   ]
  }
 ],
 "metadata": {
  "kernelspec": {
   "display_name": "Python3 (scVI_0.6.5)",
   "language": "python",
   "name": "scvi_0.6.5"
  },
  "language_info": {
   "codemirror_mode": {
    "name": "ipython",
    "version": 3
   },
   "file_extension": ".py",
   "mimetype": "text/x-python",
   "name": "python",
   "nbconvert_exporter": "python",
   "pygments_lexer": "ipython3",
   "version": "3.7.7"
  },
  "toc": {
   "base_numbering": 1,
   "nav_menu": {},
   "number_sections": true,
   "sideBar": true,
   "skip_h1_title": true,
   "title_cell": "Table of Contents",
   "title_sidebar": "Contents",
   "toc_cell": false,
   "toc_position": {
    "height": "calc(100% - 180px)",
    "left": "10px",
    "top": "150px",
    "width": "384px"
   },
   "toc_section_display": true,
   "toc_window_display": true
  }
 },
 "nbformat": 4,
 "nbformat_minor": 2
}
